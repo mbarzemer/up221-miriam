 1/1:
import pandas as pd
import geopandas as gpd
 1/2:
# what's the data type?
type(metro)
 1/3:
# what does the data look like? 
metro.head()
 1/4:
# read and add shapefile to notebook
metro = gpd.read_file('data/Stations_All_0316.zip')
 3/1: #Week 2 Homework Assignment
 3/2: print ('Week 1 Assignment')
 3/3: print ('In this assignment I will be conducting a data exploration of the L.A. County Needs Assessment dataset.')
 3/4:  import ('L.A._County_Park_Needs_Assessment_-_Demographics.csv')
 3/5: print ('In this assignment I will be conducting a data exploration of the L.A. County Needs Assessment dataset.'
 3/6: print ('In this assignment I will be conducting a data exploration of the L.A. County Needs Assessment dataset.')
 3/7: read_file (up221-miriam/week02/Data/L.A._County_Park_Needs_Assessment_-_Demographics.csv)
 3/8: print ('In this assignment I will be conducting a data exploration of the L.A. County Needs Assessment dataset.')
 3/9: filename = "Data"
3/10: file = open(L.A._County_Park_Needs_Assessment_-_Demographics.csv)
3/11: filename = ("L.A._County_Park_Needs_Assessment_-_Demographics.csv")
3/12: file = open(filename)
3/13: file = open('L.A._County_Park_Needs_Assessment_-_Demographics.csv')
3/14: print ('In this assignment I will be conducting a data exploration of the L.A. County Needs Assessment dataset.'
3/15: print ('In this assignment I will be conducting a data exploration of the L.A. County Needs Assessment dataset.')
3/16:
import panda as pd
import geopandas as gpd
3/17: print ('In this assignment I will be conducting a data exploration of the L.A. County Needs Assessment dataset.')
3/18:
import pandas as pd
import geopandas as gpd
3/19: LA County = gpd.read_file('up221-miriam/week02/Data/L.A._County_Park_Needs_Assessment_-_Demographics.geojson')
3/20:
import pandas as pd
import geopandas as gpd
3/21: LA County = gpd.read_file('ParkNeedsDemographics.geojson')
3/22: print ('In this assignment I will be conducting a data exploration of the L.A. County Park Needs Assessment dataset.')
 4/1:
# look at the data types
df.info(verbose=True, show_counts=True)
 4/2:
# What is the mean?
df2['TotalPop'].mean()
 4/3:
# define columns to keep
columns_to_keep = ['Geo_FIPS',
                   'SE_T004_019',
                   'SE_T004_001',
                   'SE_T004_003',
                   'SE_T004_005',
                   'SE_T004_007',
                   'SE_T004_009',
                   'SE_T004_011',
                   'SE_T004_013',
                   'SE_T004_015',
                   'SE_T004_017']
# add it to a new dataframe
df2 = df[columns_to_keep]
 4/4: import pandas as pd
 4/5:
# load a data file
# note the relative filepath! where is this file located?
df = pd.read_csv('data/R13280610_SL140.csv')
 4/6: df.shape
 4/7: df.head()
 4/8:
# I want to see all the data
pd.set_option('display.max_columns', None)
pd.set_option('display.max_rows', None)
 4/9: df.sample()
4/10:
# look at the data types
df.info(verbose=True, show_counts=True)
4/11: df.Geo_FIPS.head()
4/12: df.Geo_STATE.head()
4/13: df.Geo_COUNTY.head()
4/14:
df = pd.read_csv(
    'data/R13280610_SL140.csv',
    dtype=
    {
        'Geo_FIPS':str,
        'Geo_STATE':str,
        'Geo_COUNTY': str
    }
)
4/15:
# now look at the data again
df.head()
4/16: df.info(verbose=True, show_counts=True)
4/17: df.columns[df.isna().all()].tolist()
4/18: df = df.dropna(axis=1,how="all")
4/19: df.info()
4/20:
# reinspect the data
df.head()
4/21:
# define columns to keep
columns_to_keep = ['Geo_FIPS',
                   'SE_T004_019',
                   'SE_T004_001',
                   'SE_T004_003',
                   'SE_T004_005',
                   'SE_T004_007',
                   'SE_T004_009',
                   'SE_T004_011',
                   'SE_T004_013',
                   'SE_T004_015',
                   'SE_T004_017']
# add it to a new dataframe
df2 = df[columns_to_keep]
4/22:
columns = list(df2) # this is the same as df.columns.to_list()
columns
4/23:
df2.columns = ['FIPS',
'TotalPop',
'Non Hispanic',
'Non Hispanic White Alone',
'Non Hispanic Black Alone',
'Non Hispanic American Indian and Alaska Native Alone',
'Non Hispanic Asian Alone',
'Non Hispanic Native Hawaiian and Pacific Islander Alone',
'Non Hispanic Other Alone',
'Non Hispanic Multi Race',
'Hispanic']
4/24: df2.sample(5)
4/25:
# access a single column like df['col_name']
df2['TotalPop'].head()
4/26:
# What is the mean?
df2['TotalPop'].mean()
4/27:
# What is the median?
df2['TotalPop'].median()
4/28:
# get some stats
df2['TotalPop'].describe()
4/29:
# plot it as a historgram with 50 bins
df2['TotalPop'].plot.hist(bins=50)
4/30:
# box plot: notice the different syntax to generate it
df2.boxplot(column=['TotalPop'])
4/31: df2.plot.scatter(x='Non Hispanic Black Alone',y='Non Hispanic White Alone')
4/32: df_sorted = df2.sort_values(by='TotalPop',ascending = False)
4/33:
# display the data, but just a few columns to keep it clean
df_sorted[['FIPS','TotalPop']].head(10)
4/34:
# plot it
df_sorted.head(10).plot.bar(x='FIPS',
                            y='TotalPop')
4/35:
# Make it prettier with a title
df_sorted.head(10).plot.barh(x='FIPS',
                            y='TotalPop', 
                            title='Top 10 Census Tracts with Highest Population in Los Angeles County in 2020',
                            color='red')
4/36:
# subset the data so that we can see the data per row... 
# in other words, this syntax is asking to "show me the values in my dataframe that match this filter
df2[df2['TotalPop']==0]
4/37:
# create a new variable for census tracts with zero pop
df_no_pop = df2[df2['TotalPop']==0]
4/38:
# how many records?
print('There are ' + str(len(df_no_pop)) + ' census tracts with no people in them')
4/39:
# display it
df_no_pop[['FIPS','TotalPop']]
4/40: import geopandas as gpd
4/41:
# read in a geojson file downloaded from the LA Times
tracts=gpd.read_file('data/Census_Tracts_2020.geojson')
tracts.head()
4/42:
# plot it!
tracts.plot(figsize=(12,10))
4/43:
# tell me more about this dataset
tracts.info(verbose=True, show_counts=True)
4/44:
# we only really need FIPS and geometry, so let's subset the data
tracts = tracts[['CT20','geometry']]
tracts.head()
4/45:
# create a FIPS column
tracts['FIPS'] ='06' + '037' + tracts['CT20']
4/46:
# create a FIPS column
tracts['FIPS'] ='06' + '037' + tracts['CT20']
4/47:
# check it!
tracts.head()
4/48:
# create a new dataframe based on the join
tracts_race=tracts.merge(df2,on="FIPS")
4/49:
# what does it look like now?
tracts_race.head()
4/50:
tracts_race.plot(figsize=(12,10),
                 column='Non Hispanic Black Alone',
                 legend=True, 
                 scheme='NaturalBreaks')
4/51:
tracts_race.plot(figsize=(12,10),
                 column='Non Hispanic Black Alone',
                 legend=True, 
                 scheme='equal_interval')
4/52:
tracts_race.plot(figsize=(12,10),
                 column='Non Hispanic Black Alone',
                 legend=True, 
                 scheme='quantiles')
4/53:
# First, create new columns for percentages
tracts_race['PCT_Black'] = tracts_race['Non Hispanic Black Alone']/tracts_race['TotalPop']*100
tracts_race['PCT_White'] = tracts_race['Non Hispanic White Alone']/tracts_race['TotalPop']*100
tracts_race['PCT_Asian'] = tracts_race['Non Hispanic Asian Alone']/tracts_race['TotalPop']*100
4/54:
tracts_race.plot(figsize=(12,10),
                 column='PCT_Black',
                 legend=True, 
                 scheme='equal_interval')
4/55:
tracts_race.plot(figsize=(12,10),
                 column='PCT_White',
                 legend=True, 
                 scheme='equal_interval')
4/56:
tracts_race.plot(figsize=(12,10),
                 column='PCT_Asian',
                 legend=True, 
                 scheme='equal_interval')
4/57: tracts_race[tracts_race.PCT_Black > 50].plot(figsize=(12,10))
4/58: tracts_race[tracts_race.PCT_White > 50].plot(figsize=(12,10))
4/59: tracts_race[tracts_race.PCT_Asian > 50].plot(figsize=(12,10))
4/60: import folium
4/61:
m = folium.Map(location=[34.2,-118.2], 
               zoom_start = 9,
               tiles='CartoDB positron', 
               attribution='CartoDB')

# plot chorpleth over the base map
folium.Choropleth(
                  geo_data=tracts_race, # geo data
                  data=tracts_race, # data          
                  key_on='feature.properties.FIPS', # key, or merge column
                  columns=['FIPS', 'PCT_Black'], # [key, value]
                  fill_color='BuPu',
                  line_weight=0.1, 
                  fill_opacity=0.8,
                  line_opacity=0.2, # line opacity (of the border)
                  legend_name='Population Black (2020)').add_to(m)    # name on the legend color bar
m
4/62: m.save('LA_Black.html')
3/23: df = gpd.read_file('ParkNeedsDemographics.geojson')
 6/1: print ('In this assignment I will be conducting a data exploration of the L.A. County Park Needs Assessment dataset.')
 6/2: import  json
 6/3: import  pandas as pd
 6/4: import geopandas as gpd
 6/5: ladh = gdp.readfile('ParkNeedsDemographics.geojson')
 6/6: ladh = gpd.readfile('ParkNeedsDemographics.geojson')
 7/1: json = gpd.readfile('ParkNeedsDemographics.geojson')
 7/2: import  pandas as pd
 7/3: import geopandas as gpd
 7/4: json = gpd.readfile('ParkNeedsDemographics.geojson')
 7/5: import  pandas as pd
 7/6: import geopandas as gpd
 7/7: metro = gpd.readfile('data/RailLines0316.zip')
 7/8: metro = gpd.readfile('data/RailLines0316.zip')
 7/9: import  pandas as pd
7/10: import geopandas as gpd
7/11: metro = gpd.readfile('data/RailLines0316.zip')
7/12: df = gpd.read_file('data/RailLines0316.zip')
7/13: df = gpd.read_file('up221-miriam/week02/data/RailLines0316.zip')
7/14: df = gpd.read_file('data/RailLines0316.zip', epsg=4326, encoding='utf=8')
7/15: import  pandas as pd
7/16: import geopandas as gpd
7/17: df = gpd.read_file('data/RailLines0316.zip', epsg=4326, encoding='utf=8')
7/18: df = gpd.read_file('ParksNeedsDemographics.geojson', epsg=4326, encoding='utf=8')
7/19: print ('In this assignment I will be conducting a data exploration of the L.A. County Park Needs Assessment dataset.')
7/20: import fiona; help(fiona.open)
7/21: import geopandas as gpd
7/22: import pandas as pd
7/23:
zipfile = "zip:///up221-miriam/week02/Data/RailLines0316.zip"

lines = geopandas.read_file(zipfile)
7/24:
zipfile = "zip:///up221-miriam/week02/Data/RailLines0316.zip"

lines = gpd.read_file(zipfile)
7/25: import geopandas as gpd
7/26: import pandas as pd
7/27:
zipfile = "zip:///up221-miriam/week02/Data/RailLines0316.zip"

lines = gpd.read_file(zipfile)
7/28:
zipfile = "zip:///Data/RailLines0316.zip"

lines = gpd.read_file(zipfile)
7/29:
zipfile = "up221-miriam/week02/Data/RailLines0316.zip"

lines = gpd.read_file(zipfile)
7/30: import geopandas as gpd
7/31: import pandas as pd
7/32:
zipfile = "zip:///home/jovyan/up221-miriam/week02/Data/RailLines0316.zip"

lines = gpd.read_file(zipfile)
7/33: type(lines)
7/34:
# what does the data look like? 
line.head()
7/35:
# what does the data look like? 
lines.head()
7/36: lines.tail(5)
7/37: lines.sample(5)
7/38: lines.info()
7/39: lines.info()
7/40:
# how many rows and columns
lines.shape
7/41:
# what are the columns?
lines.columns.to_list()
7/42:
# single column
lines['Id'].sample(5)
7/43: print ('In this assignment I will be conducting a data exploration of Metro rail line data.')
7/44:
# how many values are there per category? 
lines['geometry'].value_counts()
7/45: print ('In this assignment I will be conducting a data exploration of Metro rail lines by station data.')
7/46:
# save as a variable
station_location-lines['geometry'].value_counts()
station_location
7/47:
# save as a variable
station_location=lines['geometry'].value_counts()
station_location
7/48: #covert the series into a dataframe
7/49:
#covert the series into a dataframe 
station_location = lines.reset_index()
7/50:
#covert the series into a dataframe 
station_location = lines.reset_index()
station_location
7/51: print ('In this assignment I will be conducting a data exploration of Metro rail lines.')
7/52:
# current columns as a list
station_location.columns.to_list()
7/53: station_location.columns=['line', 'stations']
7/54: station_location.columns=['index','line','stations']
7/55: station_location
7/56: station_location.plot()
7/57: stations.plot()
7/58: station_location.plot()
7/59:
self.geometry.crs
station_location.plot()
7/60: self.geometry.crs
7/61: station_location.plot(kind='scatter')
7/62: station_location.plot(kind='bar')
7/63: station_location.plot(kind='hexbin')
7/64: station_location.plot(kind='pie')
7/65: station_location.columns=['line','index','stations']
7/66: station_location
7/67: station_location[['line','stations']]
7/68: station_location.plot()
7/69: desired_columns=['line','stations']
7/70: station_location_trimmed=station_location[desired_columns].copy()
7/71:
station_location_trimmed=station_location[desired_columns].copy()
station_location_trimmed
7/72: station_location_trimmed.plot()
7/73: station_location_trimmed.plot(kind='bar')
7/74: station_location_trimmed.plot(kind='line')
7/75: station_location_trimmed.plot(kind='scatter')
7/76: station_location_trimmed.plot(kind='line')
7/77:
print ('I am showing the last 5 rows of the data')
# last five rows 
lines.tail(5)
7/78:
print ('I am showing the first 5 rows of the dataset')
# what does the data look like? 
lines.head()
7/79:
print ('I am showing the last 5 rows of the dataset')
# last five rows 
lines.tail(5)
7/80:
print ('Below is a sample of the dataset.')
# sample of the data
lines.sample(5)
7/81:
print ('Below is information about the dataset, including how many entries there are, the range, the type of data which includes geometry and integers)
# info about data frame
lines.info()
7/82:
print ('Below is information about the dataset, including how many entries there are, the range, the type of data which includes geometry and integers')
# info about data frame
lines.info()
7/83:
print ('Below is information about the dataset, including how many entries there are, the range, the type of data which includes geometry and integers')
# info about data frame
lines.info()
7/84:
print ('Below is information about the dataset, including how many entries there are, the range, the type of data which includes geometry and integers')

# info about data frame
lines.info()
7/85:
print ('Below is the number of rows and columns in the dataset.')
# how many rows and columns
lines.shape
7/86:
print ('Here are the titles of the columns provided in the dataset')
# what are the columns?
lines.columns.to_list()
7/87:
print('List of one of the columns in the dataset')
# single column
lines['Id'].sample(5)
7/88:
print('List of one of the columns, Id, in the dataset')
# single column
lines['Id'].sample(5)
7/89:
print('Number of values per rail line')
# how many values are there per category? 
lines['geometry'].value_counts()
7/90:
print('Below I created and saved a new variable in which I defined the station_location as the geographical points in the dataset')
# save as a variable
station_location=lines['geometry'].value_counts()
station_location
7/91:
print ('I converted the series into a dataframe')
#covert the series into a dataframe 
station_location = lines.reset_index()
station_location
7/92:
print ('I converted the series into a dataframe so that it would be easies to view')
#covert the series into a dataframe 
station_location = lines.reset_index()
station_location
7/93:
print ('Below are the current column titles')
# current columns as a list
station_location.columns.to_list()
7/94:
print ('I renamed the columns to be more understandable for the data I want to display')
station_location.columns=['line','index','stations']
7/95:
print ('I plotted a bar graph which included three variables and produced a graph that was very difficult to decipher.')
station_location.plot(kind='bar')
7/96:
print ('Because I had three columns I decided it would be easier to trip my data and create a data frame that would only include the line numbers and the station locations')
station_location[['line','stations']]
7/97:
print ('I created a new variable to define the columns I wished to include in my new dataframe')
desired_columns=['line','stations']
7/98:
print ('I plotted the trimmed data on a line graph. still not clear what it is saying but at least the x-axis does not look so crazy')
station_location_trimmed.plot(kind='line')
13/1: import pandas as pd
19/1: df=pd.read_csv('data/R13285401_SL140.csv')
19/2: import pandas as pd
19/3: df=pd.read_csv('data/R13285401_SL140.csv')
19/4: df=pd.read_csv('Data/R13285401_SL140.csv')
19/5: df=pd.read_csv('Data/R13285401_SL140.csv')
19/6:
print ## ('Census Data Exploration Assignment')
import pandas as pd
19/7:
print (##'Census Data Exploration Assignment')
import pandas as pd
19/8:
## ('Census Data Exploration Assignment')
import pandas as pd
19/9:
## ('Census Data Exploration Assignment')
# ('Author: Miriam Bar-Zemer')
import pandas as pd
19/10:
## ('Census Data Exploration Assignment')
# ('Author: Miriam Bar-Zemer')
print ('In this assignment I will be exploring poverty rates and income levels of the census tracts directly surrounding the Salton Sea. I am curious to see what the economic realities for the communities are in that area, specifically those that are lying south of the Salton Sea and north of the Mexican border.)
import pandas as pd
19/11:
## ('Census Data Exploration Assignment')
# ('Author: Miriam Bar-Zemer')
print ('In this assignment I will be exploring poverty rates and income levels of the census tracts directly surrounding the Salton Sea. I am curious to see what the economic realities for the communities are in that area, specifically those that are lying south of the Salton Sea and north of the Mexican border.')
import pandas as pd
19/12:
print ## ('Census Data Exploration Assignment')
print # ('Author: Miriam Bar-Zemer')
print ('In this assignment I will be exploring poverty rates and income levels of the census tracts directly surrounding the Salton Sea. I am curious to see what the economic realities for the communities are in that area, specifically those that are lying south of the Salton Sea and north of the Mexican border.')
import pandas as pd
19/13: df.shape
19/14: df.head
19/15: df.head()
19/16: df.shape ()
19/17: df.shape
19/18:
pd.set_option('display.max_columns',None)
pd.set_option('display.max_rows',None)
19/19:
pd.set_option('display.max_columns', None)
pd.set_option('display.max_rows', None)
19/20: pd.sample()
19/21: df.sample()
19/22: df.Geo_FIPS.head ()
19/23:
df=pd.read_csv(
    'Data/R13285401_SL140.csv',
    dtype=
    {
        'Geo_STATE':str,
        'Geo_COUNTY':str
    }
19/24:
df=pd.read_csv(
    'Data/R13285401_SL140.csv',
    dtype=
    {
        'Geo_STATE':str,
        'Geo_COUNTY':str
    })
19/25: df.head()
19/26:
df=pd.read_csv(
    'Data/R13285401_SL140.csv',
    dtype=
    {
        'Geo_STATE':str,
        'Geo_COUNTY':str
        'Geo_TRACT':str
    })
19/27:
df=pd.read_csv(
    'Data/R13285401_SL140.csv',
    dtype=
    {
        'Geo_STATE':str,
        'Geo_COUNTY':str
    })
19/28: df.columns[df.isna().all()].tolist()
19/29: columns_to_keep=[Geo_TRACT,
19/30:
df=pd.read_csv(
    'Data/R13285401_SL140.csv',
    dtype=
    {
        'Geo_STATE':str,
        'Geo_COUNTY':str
        'Geo_FIPS'str
    })
19/31:
df=pd.read_csv(
    'Data/R13285401_SL140.csv',
    dtype=
    {
        'Geo_STATE':str,
        'Geo_COUNTY':str
        'Geo_FIPS':str
    })
19/32:
df=pd.read_csv(
    'Data/R13285401_SL140.csv',
    dtype=
    {
        'Geo_STATE':str,
        'Geo_COUNTY':str
    })
19/33:
columns_to_keep=['Geo_TRACT',
                 'Geo_GEOID',
                 'Geo_QName',
                 'Geo_FIPS',
                 'SE_A13003A_001',
                 'SE_A13003A_002',
                 'SE_A13003A_003',
                 'PCT_SE_A13003A_002',
                 'PCT_SE_A13003A_003',
                 'SE_A13003B_001',
                 'SE_A13003B_002',
                 'SE_A13003B_003',
                 'PCT_SE_A13003B_002',
                 'PCT_SE_A13003B_003',
                 'SE_A13003C_001',
                 'SE_A13003C_002',
                 'SE_A13003C_003',
                 'PCT_SE_A13003C_002',
                 'PCT_SE_A13003C_003',
                 'SE_A13001A_001',
                 'SE_A13001A_002',
                 'SE_A13001A_003',
                 'PCT_SE_A13001A_002',
                 'PCT_SE_A13001A_003',
                 'SE_A13001B_001',
                 'SE_A13001B_002',
                 'SE_A13001B_003',
                 'PCT_SE_A13001B_002',
                 'PCT_SE_A13001B_003',
                 'SE_A13001C_001',
                 'SE_A13001C_002',
                 'SE_A13001C_003',
                 'PCT_SE_A13001C_002',
                 'PCT_SE_A13001C_003',
                 'SE_A13001D_001',
                 'SE_A13001D_002',
                 'SE_A13001D_003',
                 'PCT_SE_A13001D_002',
                 'PCT_SE_A13001D_003',
                 'SE_A13001E_001',
                 'SE_A13001E_002',
                 'SE_A13001E_003',
                 'PCT_SE_A13001E_002',
                 'PCT_SE_A13001E_003',
                 'SE_A13001F_001',
                 'SE_A13001F_002',
                 'SE_A13001F_003',
                 'PCT_SE_A13001F_002',
                 'PCT_SE_A13001F_003',
                 'SE_A13001G_001',
                 'SE_A13001G_002',
                 'SE_A13001G_003',
                 'PCT_SE_A13001G_002',
                 'PCT_SE_A13001G_003',
                 'SE_A13001H_001',
                 'SE_A13001H_002',
                 'SE_A13001H_003',
                 'PCT_SE_A13001H_002',
                 'PCT_SE_A13001H_003',
                 'SE_A13001I_001',
                 'SE_A13001I_002',
                 'SE_A13001I_003',
                 'PCT_SE_A13001I_002',
                 'PCT_SE_A13001I_003']
19/34:
columns_to_keep=['Geo_TRACT',
                 'Geo_GEOID',
                 'Geo_QName',
                 'Geo_FIPS',
                 'SE_A13003A_001',
                 'SE_A13003A_002',
                 'SE_A13003A_003',
                 'PCT_SE_A13003A_002',
                 'PCT_SE_A13003A_003',
                 'SE_A13003B_001',
                 'SE_A13003B_002',
                 'SE_A13003B_003',
                 'PCT_SE_A13003B_002',
                 'PCT_SE_A13003B_003',
                 'SE_A13003C_001',
                 'SE_A13003C_002',
                 'SE_A13003C_003',
                 'PCT_SE_A13003C_002',
                 'PCT_SE_A13003C_003',
                 'SE_A13001A_001',
                 'SE_A13001A_002',
                 'SE_A13001A_003',
                 'PCT_SE_A13001A_002',
                 'PCT_SE_A13001A_003',
                 'SE_A13001B_001',
                 'SE_A13001B_002',
                 'SE_A13001B_003',
                 'PCT_SE_A13001B_002',
                 'PCT_SE_A13001B_003',
                 'SE_A13001C_001',
                 'SE_A13001C_002',
                 'SE_A13001C_003',
                 'PCT_SE_A13001C_002',
                 'PCT_SE_A13001C_003',
                 'SE_A13001D_001',
                 'SE_A13001D_002',
                 'SE_A13001D_003',
                 'PCT_SE_A13001D_002',
                 'PCT_SE_A13001D_003',
                 'SE_A13001E_001',
                 'SE_A13001E_002',
                 'SE_A13001E_003',
                 'PCT_SE_A13001E_002',
                 'PCT_SE_A13001E_003',
                 'SE_A13001F_001',
                 'SE_A13001F_002',
                 'SE_A13001F_003',
                 'PCT_SE_A13001F_002',
                 'PCT_SE_A13001F_003',
                 'SE_A13001G_001',
                 'SE_A13001G_002',
                 'SE_A13001G_003',
                 'PCT_SE_A13001G_002',
                 'PCT_SE_A13001G_003',
                 'SE_A13001H_001',
                 'SE_A13001H_002',
                 'SE_A13001H_003',
                 'PCT_SE_A13001H_002',
                 'PCT_SE_A13001H_003',
                 'SE_A13001I_001',
                 'SE_A13001I_002',
                 'SE_A13001I_003',
                 'PCT_SE_A13001I_002',
                 'PCT_SE_A13001I_003']
  df2=df[columns_to_keep]
19/35:
columns_to_keep=['Geo_TRACT',
                 'Geo_GEOID',
                 'Geo_QName',
                 'Geo_FIPS',
                 'SE_A13003A_001',
                 'SE_A13003A_002',
                 'SE_A13003A_003',
                 'PCT_SE_A13003A_002',
                 'PCT_SE_A13003A_003',
                 'SE_A13003B_001',
                 'SE_A13003B_002',
                 'SE_A13003B_003',
                 'PCT_SE_A13003B_002',
                 'PCT_SE_A13003B_003',
                 'SE_A13003C_001',
                 'SE_A13003C_002',
                 'SE_A13003C_003',
                 'PCT_SE_A13003C_002',
                 'PCT_SE_A13003C_003',
                 'SE_A13001A_001',
                 'SE_A13001A_002',
                 'SE_A13001A_003',
                 'PCT_SE_A13001A_002',
                 'PCT_SE_A13001A_003',
                 'SE_A13001B_001',
                 'SE_A13001B_002',
                 'SE_A13001B_003',
                 'PCT_SE_A13001B_002',
                 'PCT_SE_A13001B_003',
                 'SE_A13001C_001',
                 'SE_A13001C_002',
                 'SE_A13001C_003',
                 'PCT_SE_A13001C_002',
                 'PCT_SE_A13001C_003',
                 'SE_A13001D_001',
                 'SE_A13001D_002',
                 'SE_A13001D_003',
                 'PCT_SE_A13001D_002',
                 'PCT_SE_A13001D_003',
                 'SE_A13001E_001',
                 'SE_A13001E_002',
                 'SE_A13001E_003',
                 'PCT_SE_A13001E_002',
                 'PCT_SE_A13001E_003',
                 'SE_A13001F_001',
                 'SE_A13001F_002',
                 'SE_A13001F_003',
                 'PCT_SE_A13001F_002',
                 'PCT_SE_A13001F_003',
                 'SE_A13001G_001',
                 'SE_A13001G_002',
                 'SE_A13001G_003',
                 'PCT_SE_A13001G_002',
                 'PCT_SE_A13001G_003',
                 'SE_A13001H_001',
                 'SE_A13001H_002',
                 'SE_A13001H_003',
                 'PCT_SE_A13001H_002',
                 'PCT_SE_A13001H_003',
                 'SE_A13001I_001',
                 'SE_A13001I_002',
                 'SE_A13001I_003',
                 'PCT_SE_A13001I_002',
                 'PCT_SE_A13001I_003']
df2=df[columns_to_keep]
19/36:
columns_to_keep=['Population Under 18 Years of Age for Whom Poverty Status Is Determined',
                 'Population Under 18 Years of Age for Whom Poverty Status Is Determined: Living in Poverty',
                 'Population Under 18 Years of Age for Whom Poverty Status Is Determined: At or Above Poverty Level']
19/37:
columns_to_keep=['Population Under 18 Years of Age for Whom Poverty Status Is Determined',
                 'Population Under 18 Years of Age for Whom Poverty Status Is Determined: Living in Poverty',
                 'Population Under 18 Years of Age for Whom Poverty Status Is Determined: At or Above Poverty Level'
                 '% Population Age 18 to 64 for Whom Poverty Status Is Determined: Living in Poverty',
                 '% Population Age 18 to 64 for Whom Poverty Status Is Determined: At or Above Poverty Level',
                 'White Alone Population for Whom Poverty Status Is Determined: Income Below Poverty Level',
                 '% White Alone Population for Whom Poverty Status Is Determined: Income Below Poverty Level',
                 '% White Alone Population for Whom Poverty Status Is Determined: Income At or Above Poverty Level',
                 'Black or African American Alone Population for Whom&nbsp; Poverty Status Is Determined: Income Below Poverty Level',
                 'Black or African American Alone Population for Whom&nbsp; Poverty Status Is Determined: Income At or Above Poverty Level',
                 '% Black or African American Alone Population for Whom&nbsp; Poverty Status Is Determined: Income Below Poverty Level',
                 '% Black or African American Alone Population for Whom&nbsp; Poverty Status Is Determined: Income At or Above Poverty Level',
                 'American Indian and Alaska Native Alone Population for Whom Poverty Status Is Determined: American Indian and Alaska Native Alone Population For&nbsp; Whom Poverty Status Is Determined: Income Below Poverty Level
                 'American Indian and Alaska Native Alone Population For&nbsp; Whom Poverty Status Is Determined: Income At or Above Poverty Level',
                 '% American Indian and Alaska Native Alone Population For&nbsp; Whom Poverty Status Is Determined: Income Below Poverty Level',
                 '% American Indian and Alaska Native Alone Population For&nbsp; Whom Poverty Status Is Determined: Income At or Above Poverty Level',
                 'Asian Alone Population for Whom Poverty Status Is Determined: Asian Alone Population for Whom Poverty Status Is Determined: Income Below Poverty Level',
                 'Asian Alone Population for Whom Poverty Status Is Determined: Income At or Above Poverty Level',
                 '% Asian Alone Population for Whom Poverty Status Is Determined: Income Below Poverty Level',
                 '% Asian Alone Population for Whom Poverty Status Is Determined: Income At or Above Poverty Level',
                 'Native Hawaiian and Other Pacific Islander Alone &nbsp; Population for Whom Poverty Status Is Determined: Income Below Poverty Level',
                 'Native Hawaiian and Other Pacific Islander Alone &nbsp; Population for Whom Poverty Status Is Determined: Income At or Above Poverty Level',
                 '% Native Hawaiian and Other Pacific Islander Alone &nbsp; Population for Whom Poverty Status Is Determined: Income Below Poverty Level',
                 '% Native Hawaiian and Other Pacific Islander Alone &nbsp; Population for Whom Poverty Status Is Determined: Income At or Above Poverty Level',
                 'Some Other Race Alone Population for Whom Poverty Status Is Determined: Income Below Poverty Level',
                 'Some Other Race Alone Population for Whom Poverty Status Is Determined: Income At or Above Poverty Level',
                 '% Some Other Race Alone Population for Whom Poverty Status Is Determined: Income Below Poverty Level',
                 '% Some Other Race Alone Population for Whom Poverty Status Is Determined: Income At or Above Poverty Level',
                 'Hispanic or Latino Population for Whom Poverty Status Is Determined: Income Below Poverty Level',
                 'Hispanic or Latino Population for Whom Poverty Status Is Determined: Income At or Above Poverty Level',
                 '% Hispanic or Latino Population for Whom Poverty Status Is Determined: Income Below Poverty Level', 
                 '% Hispanic or Latino Population for Whom Poverty Status Is Determined: Income At or Above Poverty Level',
                 'White Alone, Not Hispanic or Latino Population for Whom&nbsp; Poverty Status Is Determined: Income Below Poverty Level',
                 'White Alone, Not Hispanic or Latino Population for Whom&nbsp; Poverty Status Is Determined: Income At or Above Poverty Level',
                 '% White Alone, Not Hispanic or Latino Population for Whom&nbsp; Poverty Status Is Determined: Income Below Poverty Level',
                 '% White Alone, Not Hispanic or Latino Population for Whom&nbsp; Poverty Status Is Determined: Income At or Above Poverty Level']
                 
                ]
19/38:
columns_to_keep=['Population Under 18 Years of Age for Whom Poverty Status Is Determined',
                 'Population Under 18 Years of Age for Whom Poverty Status Is Determined: Living in Poverty',
                 'Population Under 18 Years of Age for Whom Poverty Status Is Determined: At or Above Poverty Level'
                 '% Population Age 18 to 64 for Whom Poverty Status Is Determined: Living in Poverty',
                 '% Population Age 18 to 64 for Whom Poverty Status Is Determined: At or Above Poverty Level',
                 'White Alone Population for Whom Poverty Status Is Determined: Income Below Poverty Level',
                 '% White Alone Population for Whom Poverty Status Is Determined: Income Below Poverty Level',
                 '% White Alone Population for Whom Poverty Status Is Determined: Income At or Above Poverty Level',
                 'Black or African American Alone Population for Whom&nbsp; Poverty Status Is Determined: Income Below Poverty Level',
                 'Black or African American Alone Population for Whom&nbsp; Poverty Status Is Determined: Income At or Above Poverty Level',
                 '% Black or African American Alone Population for Whom&nbsp; Poverty Status Is Determined: Income Below Poverty Level',
                 '% Black or African American Alone Population for Whom&nbsp; Poverty Status Is Determined: Income At or Above Poverty Level',
                 'American Indian and Alaska Native Alone Population for Whom Poverty Status Is Determined: American Indian and Alaska Native Alone Population For&nbsp; Whom Poverty Status Is Determined: Income Below Poverty Level',
                 'American Indian and Alaska Native Alone Population For&nbsp; Whom Poverty Status Is Determined: Income At or Above Poverty Level',
                 '% American Indian and Alaska Native Alone Population For&nbsp; Whom Poverty Status Is Determined: Income Below Poverty Level',
                 '% American Indian and Alaska Native Alone Population For&nbsp; Whom Poverty Status Is Determined: Income At or Above Poverty Level',
                 'Asian Alone Population for Whom Poverty Status Is Determined: Asian Alone Population for Whom Poverty Status Is Determined: Income Below Poverty Level',
                 'Asian Alone Population for Whom Poverty Status Is Determined: Income At or Above Poverty Level',
                 '% Asian Alone Population for Whom Poverty Status Is Determined: Income Below Poverty Level',
                 '% Asian Alone Population for Whom Poverty Status Is Determined: Income At or Above Poverty Level',
                 'Native Hawaiian and Other Pacific Islander Alone &nbsp; Population for Whom Poverty Status Is Determined: Income Below Poverty Level',
                 'Native Hawaiian and Other Pacific Islander Alone &nbsp; Population for Whom Poverty Status Is Determined: Income At or Above Poverty Level',
                 '% Native Hawaiian and Other Pacific Islander Alone &nbsp; Population for Whom Poverty Status Is Determined: Income Below Poverty Level',
                 '% Native Hawaiian and Other Pacific Islander Alone &nbsp; Population for Whom Poverty Status Is Determined: Income At or Above Poverty Level',
                 'Some Other Race Alone Population for Whom Poverty Status Is Determined: Income Below Poverty Level',
                 'Some Other Race Alone Population for Whom Poverty Status Is Determined: Income At or Above Poverty Level',
                 '% Some Other Race Alone Population for Whom Poverty Status Is Determined: Income Below Poverty Level',
                 '% Some Other Race Alone Population for Whom Poverty Status Is Determined: Income At or Above Poverty Level',
                 'Hispanic or Latino Population for Whom Poverty Status Is Determined: Income Below Poverty Level',
                 'Hispanic or Latino Population for Whom Poverty Status Is Determined: Income At or Above Poverty Level',
                 '% Hispanic or Latino Population for Whom Poverty Status Is Determined: Income Below Poverty Level', 
                 '% Hispanic or Latino Population for Whom Poverty Status Is Determined: Income At or Above Poverty Level',
                 'White Alone, Not Hispanic or Latino Population for Whom&nbsp; Poverty Status Is Determined: Income Below Poverty Level',
                 'White Alone, Not Hispanic or Latino Population for Whom&nbsp; Poverty Status Is Determined: Income At or Above Poverty Level',
                 '% White Alone, Not Hispanic or Latino Population for Whom&nbsp; Poverty Status Is Determined: Income Below Poverty Level',
                 '% White Alone, Not Hispanic or Latino Population for Whom&nbsp; Poverty Status Is Determined: Income At or Above Poverty Level']
                 
                ]
19/39:
columns_to_keep=['Population Under 18 Years of Age for Whom Poverty Status Is Determined',
                 'Population Under 18 Years of Age for Whom Poverty Status Is Determined: Living in Poverty',
                 'Population Under 18 Years of Age for Whom Poverty Status Is Determined: At or Above Poverty Level'
                 '% Population Age 18 to 64 for Whom Poverty Status Is Determined: Living in Poverty',
                 '% Population Age 18 to 64 for Whom Poverty Status Is Determined: At or Above Poverty Level',
                 'White Alone Population for Whom Poverty Status Is Determined: Income Below Poverty Level',
                 '% White Alone Population for Whom Poverty Status Is Determined: Income Below Poverty Level',
                 '% White Alone Population for Whom Poverty Status Is Determined: Income At or Above Poverty Level',
                 'Black or African American Alone Population for Whom&nbsp; Poverty Status Is Determined: Income Below Poverty Level',
                 'Black or African American Alone Population for Whom&nbsp; Poverty Status Is Determined: Income At or Above Poverty Level',
                 '% Black or African American Alone Population for Whom&nbsp; Poverty Status Is Determined: Income Below Poverty Level',
                 '% Black or African American Alone Population for Whom&nbsp; Poverty Status Is Determined: Income At or Above Poverty Level',
                 'American Indian and Alaska Native Alone Population for Whom Poverty Status Is Determined: American Indian and Alaska Native Alone Population For&nbsp; Whom Poverty Status Is Determined: Income Below Poverty Level',
                 'American Indian and Alaska Native Alone Population For&nbsp; Whom Poverty Status Is Determined: Income At or Above Poverty Level',
                 '% American Indian and Alaska Native Alone Population For&nbsp; Whom Poverty Status Is Determined: Income Below Poverty Level',
                 '% American Indian and Alaska Native Alone Population For&nbsp; Whom Poverty Status Is Determined: Income At or Above Poverty Level',
                 'Asian Alone Population for Whom Poverty Status Is Determined: Asian Alone Population for Whom Poverty Status Is Determined: Income Below Poverty Level',
                 'Asian Alone Population for Whom Poverty Status Is Determined: Income At or Above Poverty Level',
                 '% Asian Alone Population for Whom Poverty Status Is Determined: Income Below Poverty Level',
                 '% Asian Alone Population for Whom Poverty Status Is Determined: Income At or Above Poverty Level',
                 'Native Hawaiian and Other Pacific Islander Alone &nbsp; Population for Whom Poverty Status Is Determined: Income Below Poverty Level',
                 'Native Hawaiian and Other Pacific Islander Alone &nbsp; Population for Whom Poverty Status Is Determined: Income At or Above Poverty Level',
                 '% Native Hawaiian and Other Pacific Islander Alone &nbsp; Population for Whom Poverty Status Is Determined: Income Below Poverty Level',
                 '% Native Hawaiian and Other Pacific Islander Alone &nbsp; Population for Whom Poverty Status Is Determined: Income At or Above Poverty Level',
                 'Some Other Race Alone Population for Whom Poverty Status Is Determined: Income Below Poverty Level',
                 'Some Other Race Alone Population for Whom Poverty Status Is Determined: Income At or Above Poverty Level',
                 '% Some Other Race Alone Population for Whom Poverty Status Is Determined: Income Below Poverty Level',
                 '% Some Other Race Alone Population for Whom Poverty Status Is Determined: Income At or Above Poverty Level',
                 'Hispanic or Latino Population for Whom Poverty Status Is Determined: Income Below Poverty Level',
                 'Hispanic or Latino Population for Whom Poverty Status Is Determined: Income At or Above Poverty Level',
                 '% Hispanic or Latino Population for Whom Poverty Status Is Determined: Income Below Poverty Level', 
                 '% Hispanic or Latino Population for Whom Poverty Status Is Determined: Income At or Above Poverty Level',
                 'White Alone, Not Hispanic or Latino Population for Whom&nbsp; Poverty Status Is Determined: Income Below Poverty Level',
                 'White Alone, Not Hispanic or Latino Population for Whom&nbsp; Poverty Status Is Determined: Income At or Above Poverty Level',
                 '% White Alone, Not Hispanic or Latino Population for Whom&nbsp; Poverty Status Is Determined: Income Below Poverty Level',
                 '% White Alone, Not Hispanic or Latino Population for Whom&nbsp; Poverty Status Is Determined: Income At or Above Poverty Level']  ]
19/40:
columns_to_keep=['Population Under 18 Years of Age for Whom Poverty Status Is Determined',
                 'Population Under 18 Years of Age for Whom Poverty Status Is Determined: Living in Poverty',
                 'Population Under 18 Years of Age for Whom Poverty Status Is Determined: At or Above Poverty Level'
                 '% Population Age 18 to 64 for Whom Poverty Status Is Determined: Living in Poverty',
                 '% Population Age 18 to 64 for Whom Poverty Status Is Determined: At or Above Poverty Level',
                 'White Alone Population for Whom Poverty Status Is Determined: Income Below Poverty Level',
                 '% White Alone Population for Whom Poverty Status Is Determined: Income Below Poverty Level',
                 '% White Alone Population for Whom Poverty Status Is Determined: Income At or Above Poverty Level',
                 'Black or African American Alone Population for Whom&nbsp; Poverty Status Is Determined: Income Below Poverty Level',
                 'Black or African American Alone Population for Whom&nbsp; Poverty Status Is Determined: Income At or Above Poverty Level',
                 '% Black or African American Alone Population for Whom&nbsp; Poverty Status Is Determined: Income Below Poverty Level',
                 '% Black or African American Alone Population for Whom&nbsp; Poverty Status Is Determined: Income At or Above Poverty Level',
                 'American Indian and Alaska Native Alone Population for Whom Poverty Status Is Determined: American Indian and Alaska Native Alone Population For&nbsp; Whom Poverty Status Is Determined: Income Below Poverty Level',
                 'American Indian and Alaska Native Alone Population For&nbsp; Whom Poverty Status Is Determined: Income At or Above Poverty Level',
                 '% American Indian and Alaska Native Alone Population For&nbsp; Whom Poverty Status Is Determined: Income Below Poverty Level',
                 '% American Indian and Alaska Native Alone Population For&nbsp; Whom Poverty Status Is Determined: Income At or Above Poverty Level',
                 'Asian Alone Population for Whom Poverty Status Is Determined: Asian Alone Population for Whom Poverty Status Is Determined: Income Below Poverty Level',
                 'Asian Alone Population for Whom Poverty Status Is Determined: Income At or Above Poverty Level',
                 '% Asian Alone Population for Whom Poverty Status Is Determined: Income Below Poverty Level',
                 '% Asian Alone Population for Whom Poverty Status Is Determined: Income At or Above Poverty Level',
                 'Native Hawaiian and Other Pacific Islander Alone &nbsp; Population for Whom Poverty Status Is Determined: Income Below Poverty Level',
                 'Native Hawaiian and Other Pacific Islander Alone &nbsp; Population for Whom Poverty Status Is Determined: Income At or Above Poverty Level',
                 '% Native Hawaiian and Other Pacific Islander Alone &nbsp; Population for Whom Poverty Status Is Determined: Income Below Poverty Level',
                 '% Native Hawaiian and Other Pacific Islander Alone &nbsp; Population for Whom Poverty Status Is Determined: Income At or Above Poverty Level',
                 'Some Other Race Alone Population for Whom Poverty Status Is Determined: Income Below Poverty Level',
                 'Some Other Race Alone Population for Whom Poverty Status Is Determined: Income At or Above Poverty Level',
                 '% Some Other Race Alone Population for Whom Poverty Status Is Determined: Income Below Poverty Level',
                 '% Some Other Race Alone Population for Whom Poverty Status Is Determined: Income At or Above Poverty Level',
                 'Hispanic or Latino Population for Whom Poverty Status Is Determined: Income Below Poverty Level',
                 'Hispanic or Latino Population for Whom Poverty Status Is Determined: Income At or Above Poverty Level',
                 '% Hispanic or Latino Population for Whom Poverty Status Is Determined: Income Below Poverty Level', 
                 '% Hispanic or Latino Population for Whom Poverty Status Is Determined: Income At or Above Poverty Level',
                 'White Alone, Not Hispanic or Latino Population for Whom&nbsp; Poverty Status Is Determined: Income Below Poverty Level',
                 'White Alone, Not Hispanic or Latino Population for Whom&nbsp; Poverty Status Is Determined: Income At or Above Poverty Level',
                 '% White Alone, Not Hispanic or Latino Population for Whom&nbsp; Poverty Status Is Determined: Income Below Poverty Level',
                 '% White Alone, Not Hispanic or Latino Population for Whom&nbsp; Poverty Status Is Determined: Income At or Above Poverty Level']
19/41:
columns_to_keep=['FIPS',
                 'Population Under 18 Years of Age for Whom Poverty Status Is Determined',
                 'Population Under 18 Years of Age for Whom Poverty Status Is Determined: Living in Poverty',
                 'Population Under 18 Years of Age for Whom Poverty Status Is Determined: At or Above Poverty Level'
                 '% Population Age 18 to 64 for Whom Poverty Status Is Determined: Living in Poverty',
                 '% Population Age 18 to 64 for Whom Poverty Status Is Determined: At or Above Poverty Level',
                 'White Alone Population for Whom Poverty Status Is Determined: Income Below Poverty Level',
                 '% White Alone Population for Whom Poverty Status Is Determined: Income Below Poverty Level',
                 '% White Alone Population for Whom Poverty Status Is Determined: Income At or Above Poverty Level',
                 'Black or African American Alone Population for Whom&nbsp; Poverty Status Is Determined: Income Below Poverty Level',
                 'Black or African American Alone Population for Whom&nbsp; Poverty Status Is Determined: Income At or Above Poverty Level',
                 '% Black or African American Alone Population for Whom&nbsp; Poverty Status Is Determined: Income Below Poverty Level',
                 '% Black or African American Alone Population for Whom&nbsp; Poverty Status Is Determined: Income At or Above Poverty Level',
                 'American Indian and Alaska Native Alone Population for Whom Poverty Status Is Determined: American Indian and Alaska Native Alone Population For&nbsp; Whom Poverty Status Is Determined: Income Below Poverty Level',
                 'American Indian and Alaska Native Alone Population For&nbsp; Whom Poverty Status Is Determined: Income At or Above Poverty Level',
                 '% American Indian and Alaska Native Alone Population For&nbsp; Whom Poverty Status Is Determined: Income Below Poverty Level',
                 '% American Indian and Alaska Native Alone Population For&nbsp; Whom Poverty Status Is Determined: Income At or Above Poverty Level',
                 'Asian Alone Population for Whom Poverty Status Is Determined: Asian Alone Population for Whom Poverty Status Is Determined: Income Below Poverty Level',
                 'Asian Alone Population for Whom Poverty Status Is Determined: Income At or Above Poverty Level',
                 '% Asian Alone Population for Whom Poverty Status Is Determined: Income Below Poverty Level',
                 '% Asian Alone Population for Whom Poverty Status Is Determined: Income At or Above Poverty Level',
                 'Native Hawaiian and Other Pacific Islander Alone &nbsp; Population for Whom Poverty Status Is Determined: Income Below Poverty Level',
                 'Native Hawaiian and Other Pacific Islander Alone &nbsp; Population for Whom Poverty Status Is Determined: Income At or Above Poverty Level',
                 '% Native Hawaiian and Other Pacific Islander Alone &nbsp; Population for Whom Poverty Status Is Determined: Income Below Poverty Level',
                 '% Native Hawaiian and Other Pacific Islander Alone &nbsp; Population for Whom Poverty Status Is Determined: Income At or Above Poverty Level',
                 'Some Other Race Alone Population for Whom Poverty Status Is Determined: Income Below Poverty Level',
                 'Some Other Race Alone Population for Whom Poverty Status Is Determined: Income At or Above Poverty Level',
                 '% Some Other Race Alone Population for Whom Poverty Status Is Determined: Income Below Poverty Level',
                 '% Some Other Race Alone Population for Whom Poverty Status Is Determined: Income At or Above Poverty Level',
                 'Hispanic or Latino Population for Whom Poverty Status Is Determined: Income Below Poverty Level',
                 'Hispanic or Latino Population for Whom Poverty Status Is Determined: Income At or Above Poverty Level',
                 '% Hispanic or Latino Population for Whom Poverty Status Is Determined: Income Below Poverty Level', 
                 '% Hispanic or Latino Population for Whom Poverty Status Is Determined: Income At or Above Poverty Level',
                 'White Alone, Not Hispanic or Latino Population for Whom&nbsp; Poverty Status Is Determined: Income Below Poverty Level',
                 'White Alone, Not Hispanic or Latino Population for Whom&nbsp; Poverty Status Is Determined: Income At or Above Poverty Level',
                 '% White Alone, Not Hispanic or Latino Population for Whom&nbsp; Poverty Status Is Determined: Income Below Poverty Level',
                 '% White Alone, Not Hispanic or Latino Population for Whom&nbsp; Poverty Status Is Determined: Income At or Above Poverty Level']
19/42:
columns_to_keep=['FIPS',
                 'Population Under 18 Years of Age for Whom Poverty Status Is Determined',
                 'Population Under 18 Years of Age for Whom Poverty Status Is Determined: Living in Poverty',
                 'Population Under 18 Years of Age for Whom Poverty Status Is Determined: At or Above Poverty Level'
                 '% Population Age 18 to 64 for Whom Poverty Status Is Determined: Living in Poverty',
                 '% Population Age 18 to 64 for Whom Poverty Status Is Determined: At or Above Poverty Level',
                 'White Alone Population for Whom Poverty Status Is Determined: Income Below Poverty Level',
                 '% White Alone Population for Whom Poverty Status Is Determined: Income Below Poverty Level',
                 '% White Alone Population for Whom Poverty Status Is Determined: Income At or Above Poverty Level',
                 'Black or African American Alone Population for Whom&nbsp; Poverty Status Is Determined: Income Below Poverty Level',
                 'Black or African American Alone Population for Whom&nbsp; Poverty Status Is Determined: Income At or Above Poverty Level',
                 '% Black or African American Alone Population for Whom&nbsp; Poverty Status Is Determined: Income Below Poverty Level',
                 '% Black or African American Alone Population for Whom&nbsp; Poverty Status Is Determined: Income At or Above Poverty Level',
                 'American Indian and Alaska Native Alone Population for Whom Poverty Status Is Determined: American Indian and Alaska Native Alone Population For&nbsp; Whom Poverty Status Is Determined: Income Below Poverty Level',
                 'American Indian and Alaska Native Alone Population For&nbsp; Whom Poverty Status Is Determined: Income At or Above Poverty Level',
                 '% American Indian and Alaska Native Alone Population For&nbsp; Whom Poverty Status Is Determined: Income Below Poverty Level',
                 '% American Indian and Alaska Native Alone Population For&nbsp; Whom Poverty Status Is Determined: Income At or Above Poverty Level',
                 'Asian Alone Population for Whom Poverty Status Is Determined: Asian Alone Population for Whom Poverty Status Is Determined: Income Below Poverty Level',
                 'Asian Alone Population for Whom Poverty Status Is Determined: Income At or Above Poverty Level',
                 '% Asian Alone Population for Whom Poverty Status Is Determined: Income Below Poverty Level',
                 '% Asian Alone Population for Whom Poverty Status Is Determined: Income At or Above Poverty Level',
                 'Native Hawaiian and Other Pacific Islander Alone &nbsp; Population for Whom Poverty Status Is Determined: Income Below Poverty Level',
                 'Native Hawaiian and Other Pacific Islander Alone &nbsp; Population for Whom Poverty Status Is Determined: Income At or Above Poverty Level',
                 '% Native Hawaiian and Other Pacific Islander Alone &nbsp; Population for Whom Poverty Status Is Determined: Income Below Poverty Level',
                 '% Native Hawaiian and Other Pacific Islander Alone &nbsp; Population for Whom Poverty Status Is Determined: Income At or Above Poverty Level',
                 'Some Other Race Alone Population for Whom Poverty Status Is Determined: Income Below Poverty Level',
                 'Some Other Race Alone Population for Whom Poverty Status Is Determined: Income At or Above Poverty Level',
                 '% Some Other Race Alone Population for Whom Poverty Status Is Determined: Income Below Poverty Level',
                 '% Some Other Race Alone Population for Whom Poverty Status Is Determined: Income At or Above Poverty Level',
                 'Hispanic or Latino Population for Whom Poverty Status Is Determined: Income Below Poverty Level',
                 'Hispanic or Latino Population for Whom Poverty Status Is Determined: Income At or Above Poverty Level',
                 '% Hispanic or Latino Population for Whom Poverty Status Is Determined: Income Below Poverty Level', 
                 '% Hispanic or Latino Population for Whom Poverty Status Is Determined: Income At or Above Poverty Level',
                 'White Alone, Not Hispanic or Latino Population for Whom&nbsp; Poverty Status Is Determined: Income Below Poverty Level',
                 'White Alone, Not Hispanic or Latino Population for Whom&nbsp; Poverty Status Is Determined: Income At or Above Poverty Level',
                 '% White Alone, Not Hispanic or Latino Population for Whom&nbsp; Poverty Status Is Determined: Income Below Poverty Level',
                 '% White Alone, Not Hispanic or Latino Population for Whom&nbsp; Poverty Status Is Determined: Income At or Above Poverty Level']
df2=df[columns_to_keep]
19/43:
columns_to_keep=['FIPS',
                 'Population Under 18 Years of Age for Whom Poverty Status Is Determined',
                 'Population Under 18 Years of Age for Whom Poverty Status Is Determined: Living in Poverty',
                 'Population Under 18 Years of Age for Whom Poverty Status Is Determined: At or Above Poverty Level'
                 '% Population Age 18 to 64 for Whom Poverty Status Is Determined: Living in Poverty',
                 '% Population Age 18 to 64 for Whom Poverty Status Is Determined: At or Above Poverty Level',
                 'White Alone Population for Whom Poverty Status Is Determined: Income Below Poverty Level',
                 '% White Alone Population for Whom Poverty Status Is Determined: Income Below Poverty Level',
                 '% White Alone Population for Whom Poverty Status Is Determined: Income At or Above Poverty Level',
                 'Black or African American Alone Population for Whom&nbsp; Poverty Status Is Determined: Income Below Poverty Level',
                 'Black or African American Alone Population for Whom&nbsp; Poverty Status Is Determined: Income At or Above Poverty Level',
                 '% Black or African American Alone Population for Whom&nbsp; Poverty Status Is Determined: Income Below Poverty Level',
                 '% Black or African American Alone Population for Whom&nbsp; Poverty Status Is Determined: Income At or Above Poverty Level',
                 'American Indian and Alaska Native Alone Population for Whom Poverty Status Is Determined: American Indian and Alaska Native Alone Population For&nbsp; Whom Poverty Status Is Determined: Income Below Poverty Level',
                 'American Indian and Alaska Native Alone Population For&nbsp; Whom Poverty Status Is Determined: Income At or Above Poverty Level',
                 '% American Indian and Alaska Native Alone Population For&nbsp; Whom Poverty Status Is Determined: Income Below Poverty Level',
                 '% American Indian and Alaska Native Alone Population For&nbsp; Whom Poverty Status Is Determined: Income At or Above Poverty Level',
                 'Asian Alone Population for Whom Poverty Status Is Determined: Asian Alone Population for Whom Poverty Status Is Determined: Income Below Poverty Level',
                 'Asian Alone Population for Whom Poverty Status Is Determined: Income At or Above Poverty Level',
                 '% Asian Alone Population for Whom Poverty Status Is Determined: Income Below Poverty Level',
                 '% Asian Alone Population for Whom Poverty Status Is Determined: Income At or Above Poverty Level',
                 'Native Hawaiian and Other Pacific Islander Alone &nbsp; Population for Whom Poverty Status Is Determined: Income Below Poverty Level',
                 'Native Hawaiian and Other Pacific Islander Alone &nbsp; Population for Whom Poverty Status Is Determined: Income At or Above Poverty Level',
                 '% Native Hawaiian and Other Pacific Islander Alone &nbsp; Population for Whom Poverty Status Is Determined: Income Below Poverty Level',
                 '% Native Hawaiian and Other Pacific Islander Alone &nbsp; Population for Whom Poverty Status Is Determined: Income At or Above Poverty Level',
                 'Some Other Race Alone Population for Whom Poverty Status Is Determined: Income Below Poverty Level',
                 'Some Other Race Alone Population for Whom Poverty Status Is Determined: Income At or Above Poverty Level',
                 '% Some Other Race Alone Population for Whom Poverty Status Is Determined: Income Below Poverty Level',
                 '% Some Other Race Alone Population for Whom Poverty Status Is Determined: Income At or Above Poverty Level',
                 'Hispanic or Latino Population for Whom Poverty Status Is Determined: Income Below Poverty Level',
                 'Hispanic or Latino Population for Whom Poverty Status Is Determined: Income At or Above Poverty Level',
                 '% Hispanic or Latino Population for Whom Poverty Status Is Determined: Income Below Poverty Level', 
                 '% Hispanic or Latino Population for Whom Poverty Status Is Determined: Income At or Above Poverty Level',
                 'White Alone, Not Hispanic or Latino Population for Whom&nbsp; Poverty Status Is Determined: Income Below Poverty Level',
                 'White Alone, Not Hispanic or Latino Population for Whom&nbsp; Poverty Status Is Determined: Income At or Above Poverty Level',
                 '% White Alone, Not Hispanic or Latino Population for Whom&nbsp; Poverty Status Is Determined: Income Below Poverty Level',
                 '% White Alone, Not Hispanic or Latino Population for Whom&nbsp; Poverty Status Is Determined: Income At or Above Poverty Level']
df2=df[columns_to_keep]
19/44:
columns_to_keep=['FIPS',
                 'Population Under 18 Years of Age for Whom Poverty Status Is Determined',
                 'Population Under 18 Years of Age for Whom Poverty Status Is Determined: Living in Poverty',
                 'Population Under 18 Years of Age for Whom Poverty Status Is Determined: At or Above Poverty Level'
                 '% Population Age 18 to 64 for Whom Poverty Status Is Determined: Living in Poverty',
                 '% Population Age 18 to 64 for Whom Poverty Status Is Determined: At or Above Poverty Level']
19/45:
columns_to_keep=['FIPS',
                 'Population Under 18 Years of Age for Whom Poverty Status Is Determined',
                 'Population Under 18 Years of Age for Whom Poverty Status Is Determined: Living in Poverty',
                 'Population Under 18 Years of Age for Whom Poverty Status Is Determined: At or Above Poverty Level'
                 '% Population Age 18 to 64 for Whom Poverty Status Is Determined: Living in Poverty',
                 '% Population Age 18 to 64 for Whom Poverty Status Is Determined: At or Above Poverty Level']
df2=df[columns_to_keep]
19/46:
columns_to_keep=['FIPS']
df2=df[columns_to_keep]
19/47:
columns_to_keep=['FIPS',
                'Population Under 18 Years of Age for Whom Poverty Status Is Determined: Living in Poverty']
df2=df[columns_to_keep]
19/48:
columns_to_keep=['FIPS',
                'Population Under 18 Years of Age for Whom Poverty Status Is Determined: Living in Poverty',
                '% Population Under 18 Years of Age for Whom Poverty Status Is Determined: Living in Poverty',
                ]
df2=df[columns_to_keep]
19/49:
columns_to_keep=['FIPS',
                'Population Under 18 Years of Age for Whom Poverty Status Is Determined: Living in Poverty',
                '% Population Under 18 Years of Age for Whom Poverty Status Is Determined: Living in Poverty',
                'Population Age 18 to 64 for Whom Poverty Status Is Determined: Living in Poverty',
                '% Population Age 18 to 64 for Whom Poverty Status Is Determined: Living in Poverty',
                'Population Age 65 and Over for Whom Poverty Status Is Determined: Living in Poverty',
                '% Population Age 65 and Over for Whom Poverty Status Is Determined: Living in Poverty',
                ]
df2=df[columns_to_keep]
19/50:
columns_to_keep=['FIPS',
                'Population Under 18 Years of Age for Whom Poverty Status Is Determined: Living in Poverty',
                '% Population Under 18 Years of Age for Whom Poverty Status Is Determined: Living in Poverty',]
df2=df[columns_to_keep]
19/51:
columns_to_keep=['FIPS',
                'Population Under 18 Years of Age for Whom Poverty Status Is Determined: Living in Poverty',
                '% Population Under 18 Years of Age for Whom Poverty Status Is Determined: Living in Poverty',
                'Population Age 18 to 64 for Whom Poverty Status Is Determined: Living in Poverty']
df2=df[columns_to_keep]
19/52:
columns_to_keep=['FIPS',
                'Population Under 18 Years of Age for Whom Poverty Status Is Determined: Living in Poverty',
                '% Population Under 18 Years of Age for Whom Poverty Status Is Determined: Living in Poverty',
                'Population Age 18 to 64 for Whom Poverty Status Is Determined: Living in Poverty']
df2=df[columns_to_keep]
19/53:
columns_to_keep=['FIPS',
                'Population Under 18 Years of Age for Whom Poverty Status Is Determined: Living in Poverty',
                '% Population Under 18 Years of Age for Whom Poverty Status Is Determined: Living in Poverty',
                'Qualifying Name']
df2=df[columns_to_keep]
19/54: df2.head()
19/55:
columns_to_keep=['FIPS',
                'Population Under 18 Years of Age for Whom Poverty Status Is Determined: Living in Poverty',
                '% Population Under 18 Years of Age for Whom Poverty Status Is Determined: Living in Poverty',
                'Qualifying Name',
                'Population Age 18 to 64 for Whom Poverty Status Is Determined: Living in Povert',
                ]
df2=df[columns_to_keep]
19/56:
columns_to_keep=['FIPS',
                'Population Under 18 Years of Age for Whom Poverty Status Is Determined: Living in Poverty',
                '% Population Under 18 Years of Age for Whom Poverty Status Is Determined: Living in Poverty',
                'Qualifying Name',
                'Population Age 18 to 64 for Whom Poverty Status Is Determined: Living in Poverty',
                ]
df2=df[columns_to_keep]
19/57:
columns_to_keep=['FIPS',
                'Population Under 18 Years of Age for Whom Poverty Status Is Determined: Living in Poverty',
                '% Population Under 18 Years of Age for Whom Poverty Status Is Determined: Living in Poverty',
                'Qualifying Name',
                'Population Age 18 to 64 for Whom Poverty Status Is Determined: Living in Poverty']
df2=df[columns_to_keep]
19/58:
columns_to_keep=['FIPS',
                'Population Under 18 Years of Age for Whom Poverty Status Is Determined: Living in Poverty',
                '% Population Under 18 Years of Age for Whom Poverty Status Is Determined: Living in Poverty',
                'Qualifying Name',
                'Population Age 18 to 64 for Whom Poverty Status Is Determined Living in Poverty']
df2=df[columns_to_keep]
19/59:
columns_to_keep=['FIPS',
                'Population Under 18 Years of Age for Whom Poverty Status Is Determined: Living in Poverty',
                '% Population Under 18 Years of Age for Whom Poverty Status Is Determined: Living in Poverty',
                'Qualifying Name',
                'Population Age 18 to 64 for Whom Poverty Status Is Determined: Living in Poverty']
df2=df[columns_to_keep]
19/60:
columns_to_keep=['FIPS',
                'Population Under 18 Years of Age for Whom Poverty Status Is Determined: Living in Poverty',
                '% Population Under 18 Years of Age for Whom Poverty Status Is Determined: Living in Poverty',
                'Qualifying Name',
                'White Alone Population for Whom Poverty Status Is Determined:']
df2=df[columns_to_keep]
19/61:
columns_to_keep=['FIPS',
                'Population Under 18 Years of Age for Whom Poverty Status Is Determined: Living in Poverty',
                '% Population Under 18 Years of Age for Whom Poverty Status Is Determined: Living in Poverty',
                'Qualifying Name',
                'White Alone Population for Whom Poverty Status Is Determined']
df2=df[columns_to_keep]
19/62:
columns_to_keep=['FIPS',
                'Population Under 18 Years of Age for Whom Poverty Status Is Determined: Living in Poverty',
                '% Population Under 18 Years of Age for Whom Poverty Status Is Determined: Living in Poverty',
                'Qualifying Name',
                'White Alone']
df2=df[columns_to_keep]
19/63:
columns_to_keep=['FIPS',
                'Population Under 18 Years of Age for Whom Poverty Status Is Determined: Living in Poverty',
                '% Population Under 18 Years of Age for Whom Poverty Status Is Determined: Living in Poverty',
                'Qualifying Name',
                'Employed Civilian Population 16 Years and Over: Management, Professional, and Related Occupations']
df2=df[columns_to_keep]
19/64:
columns_to_keep=['FIPS',
                'Population Under 18 Years of Age for Whom Poverty Status Is Determined: Living in Poverty',
                '% Population Under 18 Years of Age for Whom Poverty Status Is Determined: Living in Poverty',
                'Qualifying Name',
                'Employed Civilian Population 16 Years and Over: Management, Professional, and Related Occupations',
                'Employed Civilian Population 16 Years and Over: Farming, Fishing, and Forestry Occupations'
    ]
df2=df[columns_to_keep]
19/65:
columns_to_keep=['FIPS',
                'Population Under 18 Years of Age for Whom Poverty Status Is Determined: Living in Poverty',
                '% Population Under 18 Years of Age for Whom Poverty Status Is Determined: Living in Poverty',
                'Qualifying Name',
                '% Employed Civilian Population 16 Years and Over: Farming, Fishing, and Forestry Occupations',
                'Employed Civilian Population 16 Years and Over: Farming, Fishing, and Forestry Occupations'
                '% Population Age 18 to 64 for Whom Poverty Status Is Determined: Living in Poverty',
    ]
df2=df[columns_to_keep]
19/66:
columns_to_keep=['FIPS',
                'Population Under 18 Years of Age for Whom Poverty Status Is Determined: Living in Poverty',
                '% Population Under 18 Years of Age for Whom Poverty Status Is Determined: Living in Poverty',
                'Qualifying Name',
                '% Employed Civilian Population 16 Years and Over: Farming, Fishing, and Forestry Occupations',
                'Employed Civilian Population 16 Years and Over: Farming, Fishing, and Forestry Occupations',
    ]
df2=df[columns_to_keep]
19/67:
columns_to_keep=['FIPS',
                'Population Under 18 Years of Age for Whom Poverty Status Is Determined: Living in Poverty',
                '% Population Under 18 Years of Age for Whom Poverty Status Is Determined: Living in Poverty',
                'Population Age 18 to 64 for Whom Poverty Status Is Determined: Living in Poverty',
                '% Employed Civilian Population 16 Years and Over: Farming, Fishing, and Forestry Occupations',
                'Employed Civilian Population 16 Years and Over: Farming, Fishing, and Forestry Occupations',
    ]
df2=df[columns_to_keep]
19/68: df=pd.read_csv('Data/reduced_ACS_data.numbers')
19/69:
a.encode('utf-8').strip()
df=pd.read_csv('Data/reduced_ACS_data.numbers')
19/70: df.shape
19/71: df.head()
19/72: a.encode('utf-8').strip()
19/73: pd.read_file('Data/reduced_ACS_data.numbers', epsg=4326, encoding='utf=8')
19/74: gpd.read_file('Data/reduced_ACS_data.numbers', epsg=4326, encoding='utf=8')
19/75:
print ## ('Census Data Exploration Assignment')
print # ('Author: Miriam Bar-Zemer')
print ('In this assignment I will be exploring poverty rates and income levels of the census tracts directly surrounding the Salton Sea. I am curious to see what the economic realities for the communities are in that area, specifically those that are lying south of the Salton Sea and north of the Mexican border.')
import pandas as pd
import geopandas as gpd
19/76: gpd.read_file('Data/reduced_ACS_data.numbers', epsg=4326, encoding='utf=8')
19/77:
print ## ('Census Data Exploration Assignment')
print # ('Author: Miriam Bar-Zemer')
print ('In this assignment I will be exploring poverty rates and income levels of the census tracts directly surrounding the Salton Sea. I am curious to see what the economic realities for the communities are in that area, specifically those that are lying south of the Salton Sea and north of the Mexican border.')
import pandas as pd
import geopandas as gpd
19/78: gpd.read_file('Data/reduced_ACS_data.numbers', epsg=4326, encoding='utf=8')
19/79: gpd.read_file('Data/reduced_ACS_data.csv', epsg=4326, encoding='utf=8')
19/80: df.shape
19/81: df.head()
19/82: df.shape
19/83: df.head()
19/84: df.sample()
19/85:
pd.set_option('display.max_columns', None)
pd.set_option('display.max_rows', None)
19/86: df.sample()
19/87: df.head()
19/88: df.head()
19/89: df.columns[df.isna().all()].tolist()
19/90: df['Population Under 18 Years of Age for Whom Poverty Status Is Determined: Living in Poverty'].head()
19/91: df['Population Under 18 Years of Age for Whom Poverty Status Is Determined: Living in Poverty'].plot.hist(bins=50)
19/92: df.dtypes()
19/93: df.dtypes
19/94: df['Population Under 18 Years of Age for Whom Poverty Status Is Determined: Living in Poverty']=df['Population Under 18 Years of Age for Whom Poverty Status Is Determined: Living in Poverty'].astype(float)
19/95: df.plot.scatter()
19/96: df.plot.scatter(x='Population Under 18 Years of Age for Whom Poverty Status Is Determined: Living in Poverty',y='FIPS')
19/97: df.plot.histogram(x='Population Under 18 Years of Age for Whom Poverty Status Is Determined: Living in Poverty',y='FIPS')
19/98: df.plot.scatter(x='Population Under 18 Years of Age for Whom Poverty Status Is Determined: Living in Poverty',y='FIPS')
19/99: df['Population Under 18 Years of Age for Whom Poverty Status Is Determined: Living in Poverty'].astype(str).astype(int)
19/100:
print ## ('Census Data Exploration Assignment')
print # ('Author: Miriam Bar-Zemer')
print ('In this assignment I will be exploring poverty rates and income levels of the census tracts directly surrounding the Salton Sea. I am curious to see what the economic realities for the communities are in that area, specifically those that are lying south of the Salton Sea and north of the Mexican border.')
import pandas as pd
import geopandas as gpd
19/101: gpd.read_file('Data/reduced_ACS_data.csv', epsg=4326, encoding='utf=8')
19/102: df.shape
19/103: df.head()
19/104:
df=pd.read_csv(
    'Data/R13285401_SL140.csv',
    dtype=
    {
        'Geo_STATE':str,
        'Geo_COUNTY':str
    })
19/105:
df=pd.read_csv(
    'Data/reduced_ACS_data.csv',
    dtype=
    {
        'Geo_STATE':str,
        'Geo_COUNTY':str
    })
19/106: df.columns[df.isna().all()].tolist()
19/107: df['Population Under 18 Years of Age for Whom Poverty Status Is Determined: Living in Poverty'].head()
19/108: df['Population Under 18 Years of Age for Whom Poverty Status Is Determined: Living in Poverty'].astype(str).astype(int)
19/109: df.shape
19/110: df.head ()
19/111:
df=pd.read_csv(
    'Data/reduced_ACS_data.csv',
    dtype=
    {
        'FIPS':str
    })
19/112:
df=pd.read_csv(
    'Data/reduced_ACS_data.csv',
    dtype=
    {
        'FIPS':str
    })
19/113: df.head()
19/114: df.columns[df.isna().all()].tolist()
19/115: df.('Population Under 18 Years of Age for Whom Poverty Status Is Determined: Living in Poverty').plot.hist(bins=50)
19/116: df('Population Under 18 Years of Age for Whom Poverty Status Is Determined: Living in Poverty').plot.hist(bins=50)
19/117: df['Population Under 18 Years of Age for Whom Poverty Status Is Determined: Living in Poverty'].plot.hist(bins=50)
19/118:
df=pd.read_csv('Data/reduced_ACS_data.csv')
df.head()
19/119:
df=pd.read_csv('Data/reduced_ACS_data.csv')
df.head()
19/120: df.shape
19/121: df.head ()
19/122:
df=pd.read_csv(
    'Data/reduced_ACS_data.csv',
    dtype=
    {
        'FIPS':str
    })
19/123: df['Population Under 18 Years of Age for Whom Poverty Status Is Determined: Living in Poverty'].plot.hist(bins=50)
19/124: df.boxplot(column=['% Population Under 18 Years of Age for Whom Poverty Status Is Determined: Living in Poverty','% Population Age 18 to 64 for Whom Poverty Status Is Determined: Living in Poverty','% Population Age 65 and Over for Whom Poverty Status Is Determined: Living in Poverty']
19/125: df.boxplot(column=['% Population Under 18 Years of Age for Whom Poverty Status Is Determined: Living in Poverty','% Population Age 18 to 64 for Whom Poverty Status Is Determined: Living in Poverty','% Population Age 65 and Over for Whom Poverty Status Is Determined: Living in Poverty'])
19/126: df.boxplot(column=['% Population Under 18 Years of Age for Whom Poverty Status Is Determined: Living in Poverty'])
19/127: df.boxplot(column=['% Population Age 18 to 64 for Whom Poverty Status Is Determined: Living in Poverty'])
19/128: df.boxplot(column=['% Population Age 18 to 64 for Whom Poverty Status Is Determined: Living in Poverty'])
19/129: df.boxplot(column=['Population Age 18 to 64 for Whom Poverty Status Is Determined: Living in Poverty'])
19/130:
df['Population Age 18 to 64 for Whom Poverty Status Is Determined: Living in Poverty']=df['Population Age 18 to 64 for Whom Poverty Status Is Determined: Living in Poverty'].astype(float)
df.boxplot(column=['Population Age 18 to 64 for Whom Poverty Status Is Determined: Living in Poverty'])
19/131: df['Population Age 18 to 64 for Whom Poverty Status Is Determined: Living in Poverty']=df['Population Age 18 to 64 for Whom Poverty Status Is Determined: Living in Poverty'].astype(float)
19/132: df.sorted=df.sorted_values(by='Population Age 18 to 64 for Whom Poverty Status Is Determined: At or Above Poverty Level',ascending=False)
19/133: df_sorted=df.sorted_values(by='Population Age 18 to 64 for Whom Poverty Status Is Determined: At or Above Poverty Level',ascending = False)
19/134: df_sorted = df.sorted_values(by='FIPS',ascending = False)
19/135: df_sorted = df.sorted_values(by='FIPS',ascending = False)
19/136: df_sorted = df.sort_values(by='FIPS',ascending = False)
19/137: df_sorted = df.sort_values(by='% Population Under 18 Years of Age for Whom Poverty Status Is Determined: Living in Poverty',ascending = False)
19/138:
df_sorted.head(10).plot.barh(x='FIPS',
                             y='% Population Under 18 Years of Age for Whom Poverty Status Is Determined: Living in Poverty',
                             title= '% of the Population under 18 years of age that is living in poverty 2021'
                             color='orange')
19/139:
df_sorted.head(10).plot.barh(x='FIPS',
                             y='% Population Under 18 Years of Age for Whom Poverty Status Is Determined: Living in Poverty',
                             title= '% of the Population under 18 years of age that is living in poverty 2021',
                             color='orange')
19/140:
df_sorted.head(10).plot.barh(x='FIPS',
                             y='% Population Age 18 to 64 for Whom Poverty Status Is Determined: Living in Poverty',
                             color='pink')
19/141:
df_sorted.head(10).plot.barh(x='FIPS',
                             y='% Population Age 18 to 64 for Whom Poverty Status Is Determined:Living in Poverty',
                             color='pink')
19/142: import geopandas as gpd
19/143: tracts=gpd.read_file(Data/tl_2022_06_tract.zip)
19/144: gpd.read_file(Data/tl_2022_06_tract.zip)
19/145: gpd.read_file(Data/tl_2022_06_tract.shp)
19/146: gpd.read_file(Data/tl_2022_06_tract.shp)
19/147: gpd.read_file(Data/'tl_2022_06_tract.shp')
19/148: gpd.read_file('Data'/'tl_2022_06_tract.shp')
19/149: gpd.read_file('Data'/'tl_2022_06_tract.shp')
19/150: gpd.read_file('Data/tl_2022_06_tract.shp')
19/151:
import fiona

with fiona.open('/Data/tl_2022_06.shp') as shp:
   ax = geo.plot()
19/152: gpd.read_file('Data/tl_2022_06_tract.shp')
19/153: tracts=gpd.read_file('Data/tl_2022_06_tract.shp')
19/154: tracts.head()
19/155: tracts.plot(figsize=(12,10))
19/156: df = df.rename(columns={'GEOID':'FIPS'})
19/157:
df = pd.read_csv(
    'data/R13280610_SL140.csv',
    dtype=
    {
        'Geo_FIPS':str,
        'Geo_STATE':str,
        'Geo_COUNTY': str
    }
)
19/158:
df = pd.read_csv(
    'Data/reduced_ACS_data.csv',
    dtype=
    {
        'Geo_FIPS':str,
        'Geo_STATE':str,
        'Geo_COUNTY': str
    }
)
19/159: tracts_poverty=tracts.merge(df,on='FIPS')
19/160: tracts_poverty=tracts.merge(df,on='FIPS')
19/161: tracts_poverty=tracts.merge(df,on='FIPS')
21/1:
df = pd.read_csv(
    'Data/reduced_ACS_data.csv',
    dtype=
    {
        'FIPS':str,
        'Geo_STATE':str,
        'Geo_COUNTY': str
    }
)
21/2:
print ## ('Census Data Exploration Assignment')
print # ('Author: Miriam Bar-Zemer')
print ('In this assignment I will be exploring poverty rates and income levels of the census tracts directly surrounding the Salton Sea. I am curious to see what the economic realities for the communities are in that area, specifically those that are lying south of the Salton Sea and north of the Mexican border.')
import pandas as pd
import geopandas as gpd
21/3:
df = pd.read_csv(
    'Data/reduced_ACS_data.csv',
    dtype=
    {
        'FIPS':str,
        'Geo_STATE':str,
        'Geo_COUNTY': str
    }
)
21/4: tracts_poverty=tracts.merge(df,on='FIPS')
21/5: tracts.plot(figsize=(12,10))
21/6: tracts=gpd.read_file('Data/tl_2022_06_tract.shp')
21/7: import geopandas as gpd
21/8:
df=pd.read_csv('Data/reduced_ACS_data.csv')
df.head()
21/9: df.shape
21/10:
df=pd.read_csv(
    'Data/reduced_ACS_data.csv',
    dtype=
    {
        'FIPS':str
    })
21/11: df['Population Under 18 Years of Age for Whom Poverty Status Is Determined: Living in Poverty'].plot.hist(bins=50)
21/12: df.boxplot(column=['% Population Under 18 Years of Age for Whom Poverty Status Is Determined: Living in Poverty'])
21/13: df_sorted = df.sort_values(by='% Population Under 18 Years of Age for Whom Poverty Status Is Determined: Living in Poverty',ascending = False)
21/14:
df_sorted.head(10).plot.barh(x='FIPS',
                             y='% Population Under 18 Years of Age for Whom Poverty Status Is Determined: Living in Poverty',
                             title= '% of the Population under 18 years of age that is living in poverty 2021',
                             color='orange')
21/15: import geopandas as gpd
21/16: tracts=gpd.read_file('Data/tl_2022_06_tract.shp')
21/17: tracts.head()
21/18: tracts.plot(figsize=(12,10))
21/19:
df = pd.read_csv(
    'Data/reduced_ACS_data.csv',
    dtype=
    {
        'FIPS':str,
        'Geo_STATE':str,
        'Geo_COUNTY': str
    }
)
21/20: tracts_poverty=tracts.merge(df,on='FIPS')
21/21:
tracts = gpd.read_file(
    'Data/tl_2022_06_tract.shp',
    dtype=
    {
        'FIPS':str,
        'Geo_STATE':str,
        'Geo_COUNTY': str
    }
)
21/22: tracts_poverty=tracts.merge(df,on='FIPS')
21/23: df.head()
21/24: tracts.head()
21/25:
df['fips'] = df['fips'].str.zfill(11)
df.head()
21/26:
df['FIPS'] = df['FIPS'].str.zfill(11)
df.head()
21/27: tracts_poverty=tracts.merge(df,on='FIPS')
21/28: tracts_poverty=tracts.merge(df, left_on='GEOID' ,right_on='FIPS', how='right')
21/29: tracts_poverty.head()
21/30: tracts_poverty=tracts.merge(df, left_on='GEOID' ,right_on='FIPS', how='left')
21/31: tracts_poverty.head()
21/32: tracts_poverty=tracts.merge(df, left_on='GEOID' ,right_on='FIPS', how='right')
21/33: tracts_poverty.head()
21/34: tracts_poverty.plot('% Population Under 18 Years of Age for Whom Poverty Status Is Determined: Living in Poverty')
26/1:
# libraries
import pandas as pd
import geopandas as gpd

# to give more power to your figures (plots)
import matplotlib.pyplot as plt

import contextily as ctx
26/2:
# import the data into a new variable
df = pd.read_csv("https://raw.githubusercontent.com/washingtonpost/data-police-shootings/master/v2/fatal-police-shootings-data.csv")
26/3:
# check the data, specifically for the latitude and longitude columns
df.info()
27/1:
tracts_poverty.plot(figsize=(12,10),
                    column='% Population Age 18 to 64 for Whom Poverty Status Is Determined: Living in Poverty',
                    legend=True,
                    scheme='NaturalBreaks')
27/2:
print ## ('Census Data Exploration Assignment')
print # ('Author: Miriam Bar-Zemer')
print ('In this assignment I will be exploring poverty rates and income levels of the census tracts directly surrounding the Salton Sea. I am curious to see what the economic realities for the communities are in that area, specifically those that are lying south of the Salton Sea and north of the Mexican border.')
import pandas as pd
import geopandas as gpd
27/3:
df=pd.read_csv('Data/reduced_ACS_data.csv')
df.head()
27/4: df.shape
27/5:
df=pd.read_csv(
    'Data/reduced_ACS_data.csv',
    dtype=
    {
        'FIPS':str
    })
27/6: df['Population Under 18 Years of Age for Whom Poverty Status Is Determined: Living in Poverty'].plot.hist(bins=50)
27/7: df.boxplot(column=['% Population Under 18 Years of Age for Whom Poverty Status Is Determined: Living in Poverty'])
27/8: df_sorted = df.sort_values(by='% Population Under 18 Years of Age for Whom Poverty Status Is Determined: Living in Poverty',ascending = False)
27/9:
df_sorted.head(10).plot.barh(x='FIPS',
                             y='% Population Under 18 Years of Age for Whom Poverty Status Is Determined: Living in Poverty',
                             title= '% of the Population under 18 years of age that is living in poverty 2021',
                             color='orange')
27/10: import geopandas as gpd
27/11: tracts=gpd.read_file('Data/tl_2022_06_tract.shp')
27/12: tracts=gpd.read_file('Data/tl_2022_06_tract.shp')
27/13: tracts.head()
27/14: tracts.plot(figsize=(12,10))
27/15:
df = pd.read_csv(
    'Data/reduced_ACS_data.csv',
    dtype=
    {
        'FIPS':str,
        'Geo_STATE':str,
        'Geo_COUNTY': str
    }
)
27/16:
tracts = gpd.read_file(
    'Data/tl_2022_06_tract.shp',
    dtype=
    {
        'FIPS':str,
        'Geo_STATE':str,
        'Geo_COUNTY': str
    }
)
27/17:
df['FIPS'] = df['FIPS'].str.zfill(11) #add leading zeros to FIPS
df.head()
27/18: tracts_poverty=tracts.merge(df, left_on='GEOID' ,right_on='FIPS', how='right')
27/19: tracts_poverty.head()
27/20: tracts_poverty.plot('% Population Under 18 Years of Age for Whom Poverty Status Is Determined: Living in Poverty')
27/21:
tracts_poverty.plot(figsize=(12,10),
                    column='% Population Age 18 to 64 for Whom Poverty Status Is Determined: Living in Poverty',
                    legend=True,
                    scheme='NaturalBreaks')
27/22:
tracts_poverty.plot(figsize=(12,10),
                    column='Population Age 18 to 64 for Whom Poverty Status Is Determined: Living in Poverty',
                    legend=True,
                    scheme='NaturalBreaks')
27/23:
tracts_poverty.plot(figsize=(12,10),
                    column='Population Under 18 Years of Age for Whom Poverty Status Is Determined: Living in Poverty',
                    legend=True,
                    scheme='NaturalBreaks')
27/24:
tracts_poverty.plot(figsize=(12,10),
                    column='Population Under 18 Years of Age for Whom Poverty Status Is Determined: Living in Poverty',
                    legend=True,
                    scheme='Quantiles')
27/25:
tracts_poverty.plot(figsize=(12,10),
                    column='Population Under 18 Years of Age for Whom Poverty Status Is Determined: Living in Poverty',
                    legend=True,
                    scheme='quantiles')
27/26: import folium
27/27:
m = folium.Map(location=[34.2,-118.2], 
               zoom_start = 9,
            )

# plot chorpleth over the base map
folium.Choropleth(
                  geo_data=tracts_poverty, # geo data
                  data=tracts_poverty, # data          
                  key_on='feature.properties.FIPS', # key, or merge column
                  columns=['FIPS', 'Population Under 18 Years of Age for Whom Poverty Status Is Determined: Living in Poverty'], # [key, value]
                  fill_color='BuPu',
                  line_weight=0.1, 
                  fill_opacity=0.8,
                  line_opacity=0.2, # line opacity (of the border)
                  legend_name='Population Under 18 Living in Poverty').add_to(m)    # name on the legend color bar
m
34/1: %history -g -f census exersize.ipynb
34/2: %history -g -f census_exersize.ipynb
34/3: %history -g -f census_exersize.ipynb
   1: %history -g -f census_exersize.ipynb
